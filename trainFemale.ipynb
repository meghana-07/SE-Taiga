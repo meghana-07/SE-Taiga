{
 "cells": [
  {
   "cell_type": "code",
   "execution_count": 1,
   "metadata": {},
   "outputs": [],
   "source": [
    "import os\n",
    "#import Pickle\n",
    "import pickle\n",
    "import numpy as np\n",
    "from scipy.io.wavfile import read\n",
    "from sklearn.mixture import GMM\n",
    "import python_speech_features as mfcc\n",
    "from sklearn import preprocessing\n",
    "import warnings\n",
    "warnings.filterwarnings(\"ignore\")"
   ]
  },
  {
   "cell_type": "code",
   "execution_count": 2,
   "metadata": {},
   "outputs": [],
   "source": [
    "def get_MFCC(sr,audio):\n",
    "    features = mfcc.mfcc(audio,sr, 0.025, 0.01, 13,appendEnergy = False)\n",
    "    features = preprocessing.scale(features)\n",
    "    return features"
   ]
  },
  {
   "cell_type": "code",
   "execution_count": 3,
   "metadata": {},
   "outputs": [],
   "source": [
    "source = \"/home/meghana/Downloads/pygender/train_data/youtube/female\"\n",
    "#path to save trained model\n",
    "dest = \"/home/meghana/Downloads/pygender/\"\n",
    "#dest     = \"D:\\\\pygender\\\\\"\n",
    "files    = [os.path.join(source,f) for f in os.listdir(source) if\n",
    "             f.endswith('.wav')]\n",
    "features = np.asarray(());"
   ]
  },
  {
   "cell_type": "code",
   "execution_count": 4,
   "metadata": {},
   "outputs": [],
   "source": [
    "for f in files:\n",
    "    sr,audio = read(f)\n",
    "    vector   = get_MFCC(sr,audio)\n",
    "    if features.size == 0:\n",
    "        features = vector\n",
    "    else:\n",
    "        features = np.vstack((features, vector))"
   ]
  },
  {
   "cell_type": "code",
   "execution_count": 5,
   "metadata": {},
   "outputs": [
    {
     "data": {
      "text/plain": [
       "GMM(covariance_type='diag', init_params='wmc', min_covar=0.001,\n",
       "  n_components=8, n_init=3, n_iter=200, params='wmc', random_state=None,\n",
       "  tol=0.001, verbose=0)"
      ]
     },
     "execution_count": 5,
     "metadata": {},
     "output_type": "execute_result"
    }
   ],
   "source": [
    "gmm = GMM(n_components = 8, n_iter = 200, covariance_type='diag',\n",
    "        n_init = 3)\n",
    "gmm.fit(features)\n"
   ]
  },
  {
   "cell_type": "code",
   "execution_count": 6,
   "metadata": {},
   "outputs": [],
   "source": [
    "picklefile = f.split(\"/\")[-2].split(\".wav\")[0]+\".gmm\"\n",
    " \n"
   ]
  },
  {
   "cell_type": "code",
   "execution_count": 8,
   "metadata": {},
   "outputs": [
    {
     "name": "stdout",
     "output_type": "stream",
     "text": [
      "modeling completed for gender: female.gmm\n"
     ]
    }
   ],
   "source": [
    "# model saved as male.gmm\n",
    "pickle.dump(gmm,open(dest + picklefile,'wb'))\n",
    "print ('modeling completed for gender:',picklefile)"
   ]
  },
  {
   "cell_type": "code",
   "execution_count": null,
   "metadata": {},
   "outputs": [],
   "source": []
  }
 ],
 "metadata": {
  "kernelspec": {
   "display_name": "Python 3",
   "language": "python",
   "name": "python3"
  },
  "language_info": {
   "codemirror_mode": {
    "name": "ipython",
    "version": 3
   },
   "file_extension": ".py",
   "mimetype": "text/x-python",
   "name": "python",
   "nbconvert_exporter": "python",
   "pygments_lexer": "ipython3",
   "version": "3.5.2"
  }
 },
 "nbformat": 4,
 "nbformat_minor": 2
}
